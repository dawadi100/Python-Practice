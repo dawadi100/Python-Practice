{
  "nbformat": 4,
  "nbformat_minor": 0,
  "metadata": {
    "colab": {
      "provenance": []
    },
    "kernelspec": {
      "name": "python3",
      "display_name": "Python 3"
    },
    "language_info": {
      "name": "python"
    }
  },
  "cells": [
    {
      "cell_type": "code",
      "execution_count": null,
      "metadata": {
        "id": "yiZag2mgze-J"
      },
      "outputs": [],
      "source": [
        "#Assignment 2 (may 6)\n",
        "\n",
        "#1) Write a program to find last digit of a number\n",
        "\n"
      ]
    },
    {
      "cell_type": "code",
      "source": [
        "n = 123\n",
        "b = n%10\n",
        "print (\"The last digit is \" ,b)"
      ],
      "metadata": {
        "id": "yfnKWRCl2k3N",
        "colab": {
          "base_uri": "https://localhost:8080/"
        },
        "outputId": "10f9a6a7-d121-42f7-be57-3796323995e6"
      },
      "execution_count": null,
      "outputs": [
        {
          "output_type": "stream",
          "name": "stdout",
          "text": [
            "The last digit is  3\n"
          ]
        }
      ]
    },
    {
      "cell_type": "markdown",
      "source": [
        "#2) Write a program to check criteria of the student according to %\n",
        "\n",
        "Marks GRADE\n",
        "90 marks A\n",
        "\n",
        "<80 and >=90 marks B\n",
        "\n",
        "<60 and <= 80 marks C\n",
        "\n",
        "Below 60 Failed"
      ],
      "metadata": {
        "id": "rIJDT7UV2r55"
      }
    },
    {
      "cell_type": "code",
      "source": [
        "mark = 81\n",
        "if mark >= 90:\n",
        "    grade = \"A\"\n",
        "elif mark >= 80 and mark < 90:\n",
        "    grade = \"B\"\n",
        "elif mark >= 60 and mark < 80:\n",
        "    grade = \"C\"\n",
        "else:\n",
        "    grade = \"Failed\"\n",
        "\n",
        "print(\"The student's grade:\", grade)\n"
      ],
      "metadata": {
        "colab": {
          "base_uri": "https://localhost:8080/"
        },
        "id": "9URslGNC2uTh",
        "outputId": "c752f73c-802e-4d33-8152-c185891b131f"
      },
      "execution_count": null,
      "outputs": [
        {
          "output_type": "stream",
          "name": "stdout",
          "text": [
            "The student's grade: B\n"
          ]
        }
      ]
    },
    {
      "cell_type": "markdown",
      "source": [
        "3) Write a program to take input between 1-12 and print which month of the year is it?\n",
        "\n",
        "Hint) 1 is January"
      ],
      "metadata": {
        "id": "g1Dt1qMl4ft6"
      }
    },
    {
      "cell_type": "code",
      "source": [
        "month = 10\n",
        "\n",
        "if month == 1:\n",
        "  print (\"January\")\n",
        "elif month == 2:\n",
        "    print (\"February\")\n",
        "elif month == 3:\n",
        "    print (\"March\")\n",
        "elif month == 4:\n",
        "   print (\"April\")\n",
        "elif month == 5:\n",
        "   print (\"May\")\n",
        "elif month == 6:\n",
        "   print (\"June\")\n",
        "elif month == 7:\n",
        "    print (\"July\")\n",
        "elif month == 8:\n",
        "    print (\"August\")\n",
        "elif month == 9:\n",
        "    print (\"September\")\n",
        "elif month == 10:\n",
        "    print (\"October\")\n",
        "elif month == 11:\n",
        "    print (\"November\")\n",
        "elif month == 12:\n",
        "    print (\"December\")\n",
        "else:\n",
        "    print(\"Invalid input. Please enter a number between 1 and 12.\")\n",
        "    exit()"
      ],
      "metadata": {
        "colab": {
          "base_uri": "https://localhost:8080/"
        },
        "id": "vxRi7_lF5UCB",
        "outputId": "de44fd34-a8fd-4c6d-ada5-5e285fca8157"
      },
      "execution_count": null,
      "outputs": [
        {
          "output_type": "stream",
          "name": "stdout",
          "text": [
            "October\n"
          ]
        }
      ]
    },
    {
      "cell_type": "code",
      "source": [
        "#4. Write a program to take input between 1-7 and print which day of week it is\n",
        "#Hint)  1 is Sunday\n",
        "\n",
        "day_num = 8\n",
        "\n",
        "if day_num == 1:\n",
        "  print(\"Sunday\")\n",
        "elif day_num == 2:\n",
        "  print(\"Monday\")\n",
        "elif day_num == 3:\n",
        "  print(\"Tuesday\")\n",
        "elif day_num == 4:\n",
        "  print(\"Wednesday\")\n",
        "elif day_num == 5:\n",
        "  print(\"Thursday\")\n",
        "elif day_num == 6:\n",
        "  print(\"Friday\")\n",
        "elif day_num == 7:\n",
        "  print(\"Saturday\")\n",
        "else:\n",
        "    print(\"Invalid. Please enter a number between 1 and 7.\")\n",
        "    exit()"
      ],
      "metadata": {
        "colab": {
          "base_uri": "https://localhost:8080/"
        },
        "id": "NufBVsHQAcz7",
        "outputId": "0a7c029e-9dae-44c8-b4fd-be61c4773ed9"
      },
      "execution_count": null,
      "outputs": [
        {
          "output_type": "stream",
          "name": "stdout",
          "text": [
            "Invalid. Please enter a number between 1 and 7.\n"
          ]
        }
      ]
    },
    {
      "cell_type": "code",
      "source": [
        "# #5. Check which number is greatest and smallest?    A= 82   B=76   C=51  D=42\n",
        "\n",
        "\n",
        "A = 82\n",
        "B = 76\n",
        "C = 51\n",
        "D = 42\n",
        "\n",
        "\n",
        "gr = max(A, B, C, D)\n",
        "sm = min(A, B, C, D)\n",
        "\n",
        "\n",
        "print(\"The greatest value is\", gr)\n",
        "print(\"The smallest value is\", sm)\n"
      ],
      "metadata": {
        "colab": {
          "base_uri": "https://localhost:8080/"
        },
        "id": "ZJqLovRg-4ye",
        "outputId": "29c384f1-06fd-44ee-b9fd-09075d75d36e"
      },
      "execution_count": null,
      "outputs": [
        {
          "output_type": "stream",
          "name": "stdout",
          "text": [
            "The greatest value is 82\n",
            "The smallest value is 42\n"
          ]
        }
      ]
    },
    {
      "cell_type": "code",
      "source": [],
      "metadata": {
        "id": "opiAyeFduvHj"
      },
      "execution_count": null,
      "outputs": []
    },
    {
      "cell_type": "code",
      "source": [
        "# 6) Check if a person is senior citizen or NO?\n",
        "\n",
        "age = int(input(\"Enter your age: \"))\n",
        "\n",
        "citizen_age = 60\n",
        "\n",
        "# Check if the person is a senior citizen or not\n",
        "if age >= citizen_age:\n",
        "    print(\"Congratulations! You are a senior citizen.\")\n",
        "else:\n",
        "  print(\"Sorry, you are not a senior citizen yet.\")\n",
        "\n"
      ],
      "metadata": {
        "colab": {
          "base_uri": "https://localhost:8080/"
        },
        "id": "QDTiEUVVuvqz",
        "outputId": "973e0594-b640-4360-e816-bcd387f833a0"
      },
      "execution_count": null,
      "outputs": [
        {
          "output_type": "stream",
          "name": "stdout",
          "text": [
            "Enter your age: 59\n",
            "Sorry, you are not a senior citizen yet.\n"
          ]
        }
      ]
    },
    {
      "cell_type": "code",
      "source": [],
      "metadata": {
        "id": "VlgKb9MSu4UJ"
      },
      "execution_count": null,
      "outputs": []
    },
    {
      "cell_type": "code",
      "source": [
        "#7) Check if a number is positive or negative\n",
        "num = 0\n",
        "\n",
        "if num > 0:\n",
        "    print(\"The number is positive.\")\n",
        "elif num == 0:\n",
        "    print(\"The number is zero.\")\n",
        "else:\n",
        "    print(\"The number is negative.\")\n"
      ],
      "metadata": {
        "id": "I1Id9nfTu4Oj",
        "colab": {
          "base_uri": "https://localhost:8080/"
        },
        "outputId": "085f284a-71c3-4016-9e79-4add22e0c87f"
      },
      "execution_count": null,
      "outputs": [
        {
          "output_type": "stream",
          "name": "stdout",
          "text": [
            "The number is zero.\n"
          ]
        }
      ]
    },
    {
      "cell_type": "code",
      "source": [
        "#8) Check if a number is divisible by both 2 and 3\n",
        "\n",
        "num = 6\n",
        "if num % 2 ==0 and num % 3 == 0:\n",
        "  print (\"Divisible by both 2 and 3\")\n",
        "\n",
        "else:\n",
        "  print ( \"not divisible by 2 and 3\")\n"
      ],
      "metadata": {
        "colab": {
          "base_uri": "https://localhost:8080/"
        },
        "id": "cfaCxENFu4IF",
        "outputId": "1b69ddf7-8abb-4f82-f2cf-9eba2954e0d1"
      },
      "execution_count": null,
      "outputs": [
        {
          "output_type": "stream",
          "name": "stdout",
          "text": [
            "Divisible by both 2 and 3\n"
          ]
        }
      ]
    },
    {
      "cell_type": "code",
      "source": [],
      "metadata": {
        "id": "qd5nRKf8u30c"
      },
      "execution_count": null,
      "outputs": []
    },
    {
      "cell_type": "code",
      "source": [
        "#9) Check if a character entered is a vowel or not\n",
        "lst1 = ['a','e','i','o','u']\n",
        "character = (input(\"enter your character:\"))\n",
        "if character in lst1:\n",
        "  print( \"YES it is Vowel\")\n",
        "else:\n",
        "  print(\"Not Vowel\")"
      ],
      "metadata": {
        "colab": {
          "base_uri": "https://localhost:8080/"
        },
        "id": "QJi1pUqFvFT3",
        "outputId": "cf40f0de-99d6-44a5-ec2b-de7aa790e488"
      },
      "execution_count": null,
      "outputs": [
        {
          "output_type": "stream",
          "name": "stdout",
          "text": [
            "enter your character:1\n",
            "Not Vowel\n"
          ]
        }
      ]
    },
    {
      "cell_type": "code",
      "source": [
        "# 10) Tell which person is the youngest and oldest : Messi=82   Ronaldo=91  Ronaldino=62   Neymar=51\n",
        "\n",
        "messi_age = 82\n",
        "ronaldo_age = 91\n",
        "ronaldino_age = 62\n",
        "neymar_age = 51\n",
        "\n",
        "# Creating a list\n",
        "ages = [messi_age, ronaldo_age, ronaldino_age, neymar_age]\n",
        "\n",
        "\n",
        "youngest = min(ages)\n",
        "oldest = max(ages)\n",
        "\n",
        "print(\"The youngest person is\", youngest, \"years old.\")\n",
        "print(\"The oldest person is\", oldest, \"years old.\")\n",
        "\n"
      ],
      "metadata": {
        "colab": {
          "base_uri": "https://localhost:8080/"
        },
        "id": "1VwSqnFrvFI3",
        "outputId": "ce8a4667-4e59-466b-9fd1-0c42e1c7b0eb"
      },
      "execution_count": null,
      "outputs": [
        {
          "output_type": "stream",
          "name": "stdout",
          "text": [
            "The youngest person is 51 years old.\n",
            "The oldest person is 91 years old.\n"
          ]
        }
      ]
    },
    {
      "cell_type": "code",
      "source": [],
      "metadata": {
        "id": "c_0cAtGtA04q"
      },
      "execution_count": null,
      "outputs": []
    },
    {
      "cell_type": "code",
      "source": [],
      "metadata": {
        "id": "y7lBnHKpA0vf"
      },
      "execution_count": null,
      "outputs": []
    },
    {
      "cell_type": "code",
      "source": [
        "# ASSIGNMENT 3\n",
        "\n",
        "#1) Calculate the sum of all numbers from 1 to a given number\n",
        "def sum_of_numbers(n):\n",
        "    return (n * (n + 1)) // 2\n",
        "\n",
        "\n",
        "given_number = 50\n",
        "sum_result = sum_of_numbers(given_number)\n",
        "print(\"The sum of numbers from 1 to\", given_number, \"is:\", sum_result)\n",
        "\n",
        "\n",
        "\n",
        "\n",
        "\n",
        "\n"
      ],
      "metadata": {
        "id": "YQz1jnAbvUNA",
        "colab": {
          "base_uri": "https://localhost:8080/"
        },
        "outputId": "01933eea-6515-4249-e04f-afb402075235"
      },
      "execution_count": null,
      "outputs": [
        {
          "output_type": "stream",
          "name": "stdout",
          "text": [
            "The sum of numbers from 1 to 50 is: 1275\n"
          ]
        }
      ]
    },
    {
      "cell_type": "code",
      "source": [
        "# 2) Write a program to print multiplication table of a given number\n",
        "def mult_t(n):\n",
        "    for i in range(1, 11):\n",
        "        print(n, \"x\", i, \"=\", n * i)\n",
        "\n",
        "\n",
        "given_number = 7\n",
        "mult_t (given_number)\n",
        "\n",
        "\n"
      ],
      "metadata": {
        "id": "FznoSDHC77ZK",
        "colab": {
          "base_uri": "https://localhost:8080/"
        },
        "outputId": "6211f67b-5d2b-480e-c969-f0f26c4d4d20"
      },
      "execution_count": null,
      "outputs": [
        {
          "output_type": "stream",
          "name": "stdout",
          "text": [
            "7 x 1 = 7\n",
            "7 x 2 = 14\n",
            "7 x 3 = 21\n",
            "7 x 4 = 28\n",
            "7 x 5 = 35\n",
            "7 x 6 = 42\n",
            "7 x 7 = 49\n",
            "7 x 8 = 56\n",
            "7 x 9 = 63\n",
            "7 x 10 = 70\n"
          ]
        }
      ]
    },
    {
      "cell_type": "code",
      "source": [
        "#3) Count the total number of digits in a number\n",
        "\n",
        "def count_digits(n):\n",
        "    count = 0\n",
        "    while n != 0:\n",
        "        count += 1\n",
        "        n //= 10\n",
        "    return count\n",
        "\n",
        "\n",
        "g_number = 12345678\n",
        "digit_count = count_digits(g_number)\n",
        "print(\"The total number of digits in\", g_number, \"is:\", digit_count)\n"
      ],
      "metadata": {
        "id": "5w3W76UR77Va",
        "colab": {
          "base_uri": "https://localhost:8080/"
        },
        "outputId": "9718d78c-e4b9-4f25-9a09-cf1360f8556d"
      },
      "execution_count": null,
      "outputs": [
        {
          "output_type": "stream",
          "name": "stdout",
          "text": [
            "The total number of digits in 12345678 is: 8\n"
          ]
        }
      ]
    },
    {
      "cell_type": "code",
      "source": [
        "#4) Reverse a given integer number\n",
        "def reverse_number(n):\n",
        "    reversed_num = 0\n",
        "    while n != 0:\n",
        "        digit = n % 10\n",
        "        reversed_num = reversed_num * 10 + digit\n",
        "        n //= 10\n",
        "    return reversed_num\n",
        "\n",
        "g_num = 123456\n",
        "reversed_num = reverse_number(g_num)\n",
        "print(\"The reverse of\", given_number, \"is:\", reversed_num)\n",
        "\n"
      ],
      "metadata": {
        "id": "N2Qe9Exv77Rw",
        "colab": {
          "base_uri": "https://localhost:8080/"
        },
        "outputId": "8bb46ebc-b892-4156-8678-cc93e90a1795"
      },
      "execution_count": null,
      "outputs": [
        {
          "output_type": "stream",
          "name": "stdout",
          "text": [
            "The reverse of 7 is: 654321\n"
          ]
        }
      ]
    },
    {
      "cell_type": "code",
      "source": [
        "\n",
        "#5) Calculate the cube of all numbers from 1 to a given number\n",
        "\n",
        "def cube_n(n):\n",
        "    for i in range(1, n+1):\n",
        "        print(\"The cube of\", i, \"is:\", i**3)\n",
        "\n",
        "\n",
        "g_num = 10\n",
        "cube_n(given_number)\n"
      ],
      "metadata": {
        "id": "yzg_IU9R77OD",
        "colab": {
          "base_uri": "https://localhost:8080/"
        },
        "outputId": "bc832651-2a6a-468b-cafa-a8f615d179a1"
      },
      "execution_count": null,
      "outputs": [
        {
          "output_type": "stream",
          "name": "stdout",
          "text": [
            "The cube of 1 is: 1\n",
            "The cube of 2 is: 8\n",
            "The cube of 3 is: 27\n",
            "The cube of 4 is: 64\n",
            "The cube of 5 is: 125\n",
            "The cube of 6 is: 216\n",
            "The cube of 7 is: 343\n",
            "The cube of 8 is: 512\n",
            "The cube of 9 is: 729\n",
            "The cube of 10 is: 1000\n"
          ]
        }
      ]
    },
    {
      "cell_type": "code",
      "source": [],
      "metadata": {
        "id": "jVYzx_jb769y"
      },
      "execution_count": null,
      "outputs": []
    }
  ]
}
